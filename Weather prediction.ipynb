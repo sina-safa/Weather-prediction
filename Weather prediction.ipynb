{
 "cells": [
  {
   "cell_type": "code",
   "execution_count": 20,
   "metadata": {},
   "outputs": [],
   "source": [
    "# Import libraries\n",
    "import pandas as pd\n",
    "import numpy as np\n",
    "from sklearn.model_selection import train_test_split\n",
    "from sklearn.ensemble import RandomForestRegressor\n",
    "from sklearn.metrics import mean_squared_error, r2_score\n",
    "from sklearn.preprocessing import MinMaxScaler\n",
    "import matplotlib.pyplot as plt"
   ]
  },
  {
   "cell_type": "code",
   "execution_count": 2,
   "metadata": {},
   "outputs": [
    {
     "data": {
      "text/html": [
       "<div>\n",
       "<style scoped>\n",
       "    .dataframe tbody tr th:only-of-type {\n",
       "        vertical-align: middle;\n",
       "    }\n",
       "\n",
       "    .dataframe tbody tr th {\n",
       "        vertical-align: top;\n",
       "    }\n",
       "\n",
       "    .dataframe thead th {\n",
       "        text-align: right;\n",
       "    }\n",
       "</style>\n",
       "<table border=\"1\" class=\"dataframe\">\n",
       "  <thead>\n",
       "    <tr style=\"text-align: right;\">\n",
       "      <th></th>\n",
       "      <th>DateTime</th>\n",
       "      <th>Condition</th>\n",
       "      <th>Rain</th>\n",
       "      <th>MaxTemp</th>\n",
       "      <th>MinTemp</th>\n",
       "      <th>SunRise</th>\n",
       "      <th>SunSet</th>\n",
       "      <th>MoonRise</th>\n",
       "      <th>MoonSet</th>\n",
       "      <th>AvgWind</th>\n",
       "      <th>AvgHumidity</th>\n",
       "      <th>AvgPressure</th>\n",
       "    </tr>\n",
       "  </thead>\n",
       "  <tbody>\n",
       "    <tr>\n",
       "      <th>0</th>\n",
       "      <td>02.09.2019</td>\n",
       "      <td>Partly cloudy</td>\n",
       "      <td>0.0</td>\n",
       "      <td>27</td>\n",
       "      <td>22</td>\n",
       "      <td>06:32:00</td>\n",
       "      <td>19:37:00</td>\n",
       "      <td>9:52:00</td>\n",
       "      <td>21:45:00</td>\n",
       "      <td>23</td>\n",
       "      <td>66</td>\n",
       "      <td>1012</td>\n",
       "    </tr>\n",
       "    <tr>\n",
       "      <th>1</th>\n",
       "      <td>01.09.2019</td>\n",
       "      <td>Partly cloudy</td>\n",
       "      <td>0.0</td>\n",
       "      <td>27</td>\n",
       "      <td>22</td>\n",
       "      <td>06:31:00</td>\n",
       "      <td>19:38:00</td>\n",
       "      <td>8:37:00</td>\n",
       "      <td>21:13:00</td>\n",
       "      <td>21</td>\n",
       "      <td>66</td>\n",
       "      <td>1011</td>\n",
       "    </tr>\n",
       "    <tr>\n",
       "      <th>2</th>\n",
       "      <td>31.08.2019</td>\n",
       "      <td>Patchy rain possible</td>\n",
       "      <td>0.5</td>\n",
       "      <td>26</td>\n",
       "      <td>22</td>\n",
       "      <td>06:30:00</td>\n",
       "      <td>19:40:00</td>\n",
       "      <td>7:21:00</td>\n",
       "      <td>20:40:00</td>\n",
       "      <td>22</td>\n",
       "      <td>63</td>\n",
       "      <td>1015</td>\n",
       "    </tr>\n",
       "    <tr>\n",
       "      <th>3</th>\n",
       "      <td>30.08.2019</td>\n",
       "      <td>Partly cloudy</td>\n",
       "      <td>0.0</td>\n",
       "      <td>27</td>\n",
       "      <td>22</td>\n",
       "      <td>06:29:00</td>\n",
       "      <td>19:42:00</td>\n",
       "      <td>6:4:00</td>\n",
       "      <td>20:5:00</td>\n",
       "      <td>20</td>\n",
       "      <td>64</td>\n",
       "      <td>1016</td>\n",
       "    </tr>\n",
       "    <tr>\n",
       "      <th>4</th>\n",
       "      <td>29.08.2019</td>\n",
       "      <td>Partly cloudy</td>\n",
       "      <td>0.0</td>\n",
       "      <td>27</td>\n",
       "      <td>23</td>\n",
       "      <td>06:27:00</td>\n",
       "      <td>19:43:00</td>\n",
       "      <td>4:47:00</td>\n",
       "      <td>19:26:00</td>\n",
       "      <td>24</td>\n",
       "      <td>61</td>\n",
       "      <td>1015</td>\n",
       "    </tr>\n",
       "  </tbody>\n",
       "</table>\n",
       "</div>"
      ],
      "text/plain": [
       "     DateTime             Condition  Rain  MaxTemp  MinTemp   SunRise   \n",
       "0  02.09.2019         Partly cloudy   0.0       27       22  06:32:00  \\\n",
       "1  01.09.2019         Partly cloudy   0.0       27       22  06:31:00   \n",
       "2  31.08.2019  Patchy rain possible   0.5       26       22  06:30:00   \n",
       "3  30.08.2019         Partly cloudy   0.0       27       22  06:29:00   \n",
       "4  29.08.2019         Partly cloudy   0.0       27       23  06:27:00   \n",
       "\n",
       "     SunSet MoonRise   MoonSet  AvgWind  AvgHumidity  AvgPressure  \n",
       "0  19:37:00  9:52:00  21:45:00       23           66         1012  \n",
       "1  19:38:00  8:37:00  21:13:00       21           66         1011  \n",
       "2  19:40:00  7:21:00  20:40:00       22           63         1015  \n",
       "3  19:42:00   6:4:00   20:5:00       20           64         1016  \n",
       "4  19:43:00  4:47:00  19:26:00       24           61         1015  "
      ]
     },
     "execution_count": 2,
     "metadata": {},
     "output_type": "execute_result"
    }
   ],
   "source": [
    "# read file\n",
    "df = pd.read_csv('Istanbul Weather Data.csv')\n",
    "df.head()"
   ]
  },
  {
   "cell_type": "code",
   "execution_count": 3,
   "metadata": {},
   "outputs": [
    {
     "data": {
      "text/html": [
       "<div>\n",
       "<style scoped>\n",
       "    .dataframe tbody tr th:only-of-type {\n",
       "        vertical-align: middle;\n",
       "    }\n",
       "\n",
       "    .dataframe tbody tr th {\n",
       "        vertical-align: top;\n",
       "    }\n",
       "\n",
       "    .dataframe thead th {\n",
       "        text-align: right;\n",
       "    }\n",
       "</style>\n",
       "<table border=\"1\" class=\"dataframe\">\n",
       "  <thead>\n",
       "    <tr style=\"text-align: right;\">\n",
       "      <th></th>\n",
       "      <th>DateTime</th>\n",
       "      <th>Rain</th>\n",
       "      <th>MaxTemp</th>\n",
       "      <th>MinTemp</th>\n",
       "      <th>AvgWind</th>\n",
       "      <th>AvgHumidity</th>\n",
       "      <th>AvgPressure</th>\n",
       "    </tr>\n",
       "  </thead>\n",
       "  <tbody>\n",
       "    <tr>\n",
       "      <th>0</th>\n",
       "      <td>02.09.2019</td>\n",
       "      <td>0.0</td>\n",
       "      <td>27</td>\n",
       "      <td>22</td>\n",
       "      <td>23</td>\n",
       "      <td>66</td>\n",
       "      <td>1012</td>\n",
       "    </tr>\n",
       "    <tr>\n",
       "      <th>1</th>\n",
       "      <td>01.09.2019</td>\n",
       "      <td>0.0</td>\n",
       "      <td>27</td>\n",
       "      <td>22</td>\n",
       "      <td>21</td>\n",
       "      <td>66</td>\n",
       "      <td>1011</td>\n",
       "    </tr>\n",
       "    <tr>\n",
       "      <th>2</th>\n",
       "      <td>31.08.2019</td>\n",
       "      <td>0.5</td>\n",
       "      <td>26</td>\n",
       "      <td>22</td>\n",
       "      <td>22</td>\n",
       "      <td>63</td>\n",
       "      <td>1015</td>\n",
       "    </tr>\n",
       "    <tr>\n",
       "      <th>3</th>\n",
       "      <td>30.08.2019</td>\n",
       "      <td>0.0</td>\n",
       "      <td>27</td>\n",
       "      <td>22</td>\n",
       "      <td>20</td>\n",
       "      <td>64</td>\n",
       "      <td>1016</td>\n",
       "    </tr>\n",
       "    <tr>\n",
       "      <th>4</th>\n",
       "      <td>29.08.2019</td>\n",
       "      <td>0.0</td>\n",
       "      <td>27</td>\n",
       "      <td>23</td>\n",
       "      <td>24</td>\n",
       "      <td>61</td>\n",
       "      <td>1015</td>\n",
       "    </tr>\n",
       "  </tbody>\n",
       "</table>\n",
       "</div>"
      ],
      "text/plain": [
       "     DateTime  Rain  MaxTemp  MinTemp  AvgWind  AvgHumidity  AvgPressure\n",
       "0  02.09.2019   0.0       27       22       23           66         1012\n",
       "1  01.09.2019   0.0       27       22       21           66         1011\n",
       "2  31.08.2019   0.5       26       22       22           63         1015\n",
       "3  30.08.2019   0.0       27       22       20           64         1016\n",
       "4  29.08.2019   0.0       27       23       24           61         1015"
      ]
     },
     "execution_count": 3,
     "metadata": {},
     "output_type": "execute_result"
    }
   ],
   "source": [
    "# drop unwanted columns\n",
    "to_drop=[1,5,6,7,8]\n",
    "df.drop(df.columns[to_drop], axis=1, inplace=True)\n",
    "df.head()"
   ]
  },
  {
   "cell_type": "code",
   "execution_count": 4,
   "metadata": {},
   "outputs": [
    {
     "name": "stdout",
     "output_type": "stream",
     "text": [
      "                 Rain   MaxTemp   MinTemp   AvgWind  AvgHumidity  AvgPressure\n",
      "Rain         1.000000 -0.144952 -0.123754  0.155156     0.278792    -0.153274\n",
      "MaxTemp     -0.144952  1.000000  0.946626 -0.140458    -0.469191    -0.436150\n",
      "MinTemp     -0.123754  0.946626  1.000000 -0.047940    -0.371696    -0.399119\n",
      "AvgWind      0.155156 -0.140458 -0.047940  1.000000     0.201916     0.076457\n",
      "AvgHumidity  0.278792 -0.469191 -0.371696  0.201916     1.000000    -0.013038\n",
      "AvgPressure -0.153274 -0.436150 -0.399119  0.076457    -0.013038     1.000000\n"
     ]
    }
   ],
   "source": [
    "# Check for corr\n",
    "df =df.drop('DateTime',axis=1)\n",
    "corr = df.corr()\n",
    "print(corr)"
   ]
  },
  {
   "cell_type": "code",
   "execution_count": 5,
   "metadata": {},
   "outputs": [],
   "source": [
    "# Selecting Features and Labels\n",
    "X = df[['Rain', 'AvgWind', 'AvgHumidity', 'AvgPressure','MinTemp']]\n",
    "y_maxT = df['MaxTemp']\n",
    "#y_minT = df['MinTemp']\n",
    "\n",
    "# Scaling \n",
    "scaler = MinMaxScaler()\n",
    "X_scaled = scaler.fit_transform(X)"
   ]
  },
  {
   "cell_type": "code",
   "execution_count": 11,
   "metadata": {},
   "outputs": [
    {
     "data": {
      "text/html": [
       "<style>#sk-container-id-2 {color: black;background-color: white;}#sk-container-id-2 pre{padding: 0;}#sk-container-id-2 div.sk-toggleable {background-color: white;}#sk-container-id-2 label.sk-toggleable__label {cursor: pointer;display: block;width: 100%;margin-bottom: 0;padding: 0.3em;box-sizing: border-box;text-align: center;}#sk-container-id-2 label.sk-toggleable__label-arrow:before {content: \"▸\";float: left;margin-right: 0.25em;color: #696969;}#sk-container-id-2 label.sk-toggleable__label-arrow:hover:before {color: black;}#sk-container-id-2 div.sk-estimator:hover label.sk-toggleable__label-arrow:before {color: black;}#sk-container-id-2 div.sk-toggleable__content {max-height: 0;max-width: 0;overflow: hidden;text-align: left;background-color: #f0f8ff;}#sk-container-id-2 div.sk-toggleable__content pre {margin: 0.2em;color: black;border-radius: 0.25em;background-color: #f0f8ff;}#sk-container-id-2 input.sk-toggleable__control:checked~div.sk-toggleable__content {max-height: 200px;max-width: 100%;overflow: auto;}#sk-container-id-2 input.sk-toggleable__control:checked~label.sk-toggleable__label-arrow:before {content: \"▾\";}#sk-container-id-2 div.sk-estimator input.sk-toggleable__control:checked~label.sk-toggleable__label {background-color: #d4ebff;}#sk-container-id-2 div.sk-label input.sk-toggleable__control:checked~label.sk-toggleable__label {background-color: #d4ebff;}#sk-container-id-2 input.sk-hidden--visually {border: 0;clip: rect(1px 1px 1px 1px);clip: rect(1px, 1px, 1px, 1px);height: 1px;margin: -1px;overflow: hidden;padding: 0;position: absolute;width: 1px;}#sk-container-id-2 div.sk-estimator {font-family: monospace;background-color: #f0f8ff;border: 1px dotted black;border-radius: 0.25em;box-sizing: border-box;margin-bottom: 0.5em;}#sk-container-id-2 div.sk-estimator:hover {background-color: #d4ebff;}#sk-container-id-2 div.sk-parallel-item::after {content: \"\";width: 100%;border-bottom: 1px solid gray;flex-grow: 1;}#sk-container-id-2 div.sk-label:hover label.sk-toggleable__label {background-color: #d4ebff;}#sk-container-id-2 div.sk-serial::before {content: \"\";position: absolute;border-left: 1px solid gray;box-sizing: border-box;top: 0;bottom: 0;left: 50%;z-index: 0;}#sk-container-id-2 div.sk-serial {display: flex;flex-direction: column;align-items: center;background-color: white;padding-right: 0.2em;padding-left: 0.2em;position: relative;}#sk-container-id-2 div.sk-item {position: relative;z-index: 1;}#sk-container-id-2 div.sk-parallel {display: flex;align-items: stretch;justify-content: center;background-color: white;position: relative;}#sk-container-id-2 div.sk-item::before, #sk-container-id-2 div.sk-parallel-item::before {content: \"\";position: absolute;border-left: 1px solid gray;box-sizing: border-box;top: 0;bottom: 0;left: 50%;z-index: -1;}#sk-container-id-2 div.sk-parallel-item {display: flex;flex-direction: column;z-index: 1;position: relative;background-color: white;}#sk-container-id-2 div.sk-parallel-item:first-child::after {align-self: flex-end;width: 50%;}#sk-container-id-2 div.sk-parallel-item:last-child::after {align-self: flex-start;width: 50%;}#sk-container-id-2 div.sk-parallel-item:only-child::after {width: 0;}#sk-container-id-2 div.sk-dashed-wrapped {border: 1px dashed gray;margin: 0 0.4em 0.5em 0.4em;box-sizing: border-box;padding-bottom: 0.4em;background-color: white;}#sk-container-id-2 div.sk-label label {font-family: monospace;font-weight: bold;display: inline-block;line-height: 1.2em;}#sk-container-id-2 div.sk-label-container {text-align: center;}#sk-container-id-2 div.sk-container {/* jupyter's `normalize.less` sets `[hidden] { display: none; }` but bootstrap.min.css set `[hidden] { display: none !important; }` so we also need the `!important` here to be able to override the default hidden behavior on the sphinx rendered scikit-learn.org. See: https://github.com/scikit-learn/scikit-learn/issues/21755 */display: inline-block !important;position: relative;}#sk-container-id-2 div.sk-text-repr-fallback {display: none;}</style><div id=\"sk-container-id-2\" class=\"sk-top-container\"><div class=\"sk-text-repr-fallback\"><pre>RandomForestRegressor(random_state=42)</pre><b>In a Jupyter environment, please rerun this cell to show the HTML representation or trust the notebook. <br />On GitHub, the HTML representation is unable to render, please try loading this page with nbviewer.org.</b></div><div class=\"sk-container\" hidden><div class=\"sk-item\"><div class=\"sk-estimator sk-toggleable\"><input class=\"sk-toggleable__control sk-hidden--visually\" id=\"sk-estimator-id-2\" type=\"checkbox\" checked><label for=\"sk-estimator-id-2\" class=\"sk-toggleable__label sk-toggleable__label-arrow\">RandomForestRegressor</label><div class=\"sk-toggleable__content\"><pre>RandomForestRegressor(random_state=42)</pre></div></div></div></div></div>"
      ],
      "text/plain": [
       "RandomForestRegressor(random_state=42)"
      ]
     },
     "execution_count": 11,
     "metadata": {},
     "output_type": "execute_result"
    }
   ],
   "source": [
    "# Train-Test split\n",
    "#X_train, X_test, y_maxT_train, y_maxT_test, y_minT_train, y_minT_test = train_test_split(X_scaled, y_maxT,y_minT, test_size= 0.3, random_state=42)\n",
    "X_train, X_test, y_maxT_train, y_maxT_test = train_test_split(X_scaled, y_maxT, test_size= 0.2, random_state=42)\n",
    "\n",
    "# Model\n",
    "MaxT_model = RandomForestRegressor(n_estimators= 100, random_state=42)\n",
    "#MinT_model = RandomForestRegressor(n_estimators= 100, random_state=42)\n",
    "\n",
    "# Fit model\n",
    "MaxT_model.fit(X_train, y_maxT_train)\n",
    "#MinT_model.fit(X_train, y_minT_train)\n"
   ]
  },
  {
   "cell_type": "code",
   "execution_count": 12,
   "metadata": {},
   "outputs": [
    {
     "name": "stdout",
     "output_type": "stream",
     "text": [
      "Maximum Temp MSE =  4.650395543484359\n",
      "Maximum Temp R^2 =  0.9217002407425525\n"
     ]
    }
   ],
   "source": [
    "# Model Evaluation\n",
    "y_maxT_pred = MaxT_model.predict(X_test)\n",
    "#y_minT_pred = MinT_model.predict(X_test)\n",
    "\n",
    "# Mean squared error\n",
    "maxT_mse = mean_squared_error(y_maxT_test,y_maxT_pred)\n",
    "#minT_mse = mean_squared_error(y_minT_test, y_minT_pred)\n",
    "\n",
    "# R^2 \n",
    "maxT_r2 = r2_score(y_maxT_test,y_maxT_pred)\n",
    "#minT_r2 = r2_score(y_minT_test, y_minT_pred)\n",
    "\n",
    "print('Maximum Temp MSE = ', maxT_mse)\n",
    "#print('Minimum Temp MSE = ', minT_mse)\n",
    "print('Maximum Temp R^2 = ',maxT_r2)\n",
    "#print('Minimum Temp R^2 = ', minT_r2)\n"
   ]
  },
  {
   "cell_type": "code",
   "execution_count": 25,
   "metadata": {},
   "outputs": [
    {
     "data": {
      "image/png": "[encoded data removed]",
      "text/plain": [
       "<Figure size 640x480 with 1 Axes>"
      ]
     },
     "metadata": {},
     "output_type": "display_data"
    }
   ],
   "source": [
    "# Plot Max temp\n",
    "plt.scatter(y_maxT_test,y_maxT_pred, color = 'grey')\n",
    "plt.plot(y_maxT_test, y_maxT_test, color = 'red', linewidth = 2)\n",
    "plt.xlabel('True values')\n",
    "plt.ylabel('predicted values')\n",
    "plt.title('Max Temp prediction')\n",
    "plt.show()"
   ]
  }
 ],
 "metadata": {
  "kernelspec": {
   "display_name": "Python 3",
   "language": "python",
   "name": "python3"
  },
  "language_info": {
   "codemirror_mode": {
    "name": "ipython",
    "version": 3
   },
   "file_extension": ".py",
   "mimetype": "text/x-python",
   "name": "python",
   "nbconvert_exporter": "python",
   "pygments_lexer": "ipython3",
   "version": "3.11.3"
  },
  "orig_nbformat": 4
 },
 "nbformat": 4,
 "nbformat_minor": 2
}
